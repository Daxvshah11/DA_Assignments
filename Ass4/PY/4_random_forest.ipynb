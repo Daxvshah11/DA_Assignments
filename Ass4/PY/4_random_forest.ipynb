{
 "cells": [
  {
   "attachments": {},
   "cell_type": "markdown",
   "metadata": {},
   "source": [
    "**Headers**"
   ]
  },
  {
   "cell_type": "code",
   "execution_count": 1,
   "metadata": {},
   "outputs": [],
   "source": [
    "import numpy as np\n",
    "from sklearn.tree import DecisionTreeClassifier\n",
    "from collections import Counter\n",
    "import pandas as pd\n",
    "from sklearn.metrics import accuracy_score, classification_report, confusion_matrix\n",
    "from sklearn.model_selection import train_test_split"
   ]
  },
  {
   "attachments": {},
   "cell_type": "markdown",
   "metadata": {},
   "source": [
    "**Random Forest Classifier Implementation from Scratch in Python**"
   ]
  },
  {
   "cell_type": "code",
   "execution_count": 2,
   "metadata": {},
   "outputs": [],
   "source": [
    "class Random_Forest_Classifier:\n",
    "    def __init__(self, n_estimators=100, max_depth=None, min_samples_split=2, min_samples_leaf=1, random_state=None):\n",
    "        self.n_estimators = n_estimators\n",
    "        self.max_depth = max_depth\n",
    "        self.min_samples_split = min_samples_split\n",
    "        self.min_samples_leaf = min_samples_leaf\n",
    "        self.random_state = random_state\n",
    "        self.estimators = []\n",
    "\n",
    "    def fit(self, X, y):\n",
    "        np.random.seed(self.random_state)\n",
    "        for _ in range(self.n_estimators):\n",
    "            indices = np.random.choice(X.shape[0], X.shape[0], replace=True)\n",
    "            X_subset, y_subset = X[indices], y[indices]\n",
    "            tree = DecisionTreeClassifier(max_depth=self.max_depth,\n",
    "                                          min_samples_split=self.min_samples_split,\n",
    "                                          min_samples_leaf=self.min_samples_leaf)\n",
    "            tree.fit(X_subset, y_subset)\n",
    "            self.estimators.append(tree)\n",
    "\n",
    "    def predict(self, X):\n",
    "        predictions = np.array([tree.predict(X) for tree in self.estimators])\n",
    "        majority_vote = []\n",
    "        for sample_predictions in predictions.T:\n",
    "            counts = Counter(sample_predictions)\n",
    "            majority_vote.append(counts.most_common(1)[0][0])\n",
    "        return np.array(majority_vote)"
   ]
  },
  {
   "cell_type": "code",
   "execution_count": 3,
   "metadata": {},
   "outputs": [
    {
     "name": "stdout",
     "output_type": "stream",
     "text": [
      "Predictions on the test dataset:\n",
      "['Adelie Penguin (Pygoscelis adeliae)'\n",
      " 'Adelie Penguin (Pygoscelis adeliae)'\n",
      " 'Adelie Penguin (Pygoscelis adeliae)'\n",
      " 'Adelie Penguin (Pygoscelis adeliae)'\n",
      " 'Adelie Penguin (Pygoscelis adeliae)'\n",
      " 'Chinstrap penguin (Pygoscelis antarctica)'\n",
      " 'Gentoo penguin (Pygoscelis papua)' 'Gentoo penguin (Pygoscelis papua)'\n",
      " 'Gentoo penguin (Pygoscelis papua)' 'Gentoo penguin (Pygoscelis papua)'\n",
      " 'Chinstrap penguin (Pygoscelis antarctica)'\n",
      " 'Gentoo penguin (Pygoscelis papua)' 'Adelie Penguin (Pygoscelis adeliae)'\n",
      " 'Gentoo penguin (Pygoscelis papua)' 'Adelie Penguin (Pygoscelis adeliae)'\n",
      " 'Gentoo penguin (Pygoscelis papua)' 'Adelie Penguin (Pygoscelis adeliae)'\n",
      " 'Adelie Penguin (Pygoscelis adeliae)'\n",
      " 'Adelie Penguin (Pygoscelis adeliae)'\n",
      " 'Chinstrap penguin (Pygoscelis antarctica)'\n",
      " 'Gentoo penguin (Pygoscelis papua)' 'Adelie Penguin (Pygoscelis adeliae)'\n",
      " 'Adelie Penguin (Pygoscelis adeliae)' 'Gentoo penguin (Pygoscelis papua)'\n",
      " 'Gentoo penguin (Pygoscelis papua)' 'Gentoo penguin (Pygoscelis papua)'\n",
      " 'Adelie Penguin (Pygoscelis adeliae)'\n",
      " 'Chinstrap penguin (Pygoscelis antarctica)'\n",
      " 'Adelie Penguin (Pygoscelis adeliae)'\n",
      " 'Chinstrap penguin (Pygoscelis antarctica)'\n",
      " 'Adelie Penguin (Pygoscelis adeliae)' 'Gentoo penguin (Pygoscelis papua)'\n",
      " 'Gentoo penguin (Pygoscelis papua)'\n",
      " 'Chinstrap penguin (Pygoscelis antarctica)'\n",
      " 'Gentoo penguin (Pygoscelis papua)' 'Adelie Penguin (Pygoscelis adeliae)'\n",
      " 'Adelie Penguin (Pygoscelis adeliae)' 'Gentoo penguin (Pygoscelis papua)'\n",
      " 'Chinstrap penguin (Pygoscelis antarctica)'\n",
      " 'Adelie Penguin (Pygoscelis adeliae)'\n",
      " 'Adelie Penguin (Pygoscelis adeliae)'\n",
      " 'Adelie Penguin (Pygoscelis adeliae)'\n",
      " 'Adelie Penguin (Pygoscelis adeliae)' 'Gentoo penguin (Pygoscelis papua)'\n",
      " 'Adelie Penguin (Pygoscelis adeliae)'\n",
      " 'Adelie Penguin (Pygoscelis adeliae)'\n",
      " 'Chinstrap penguin (Pygoscelis antarctica)'\n",
      " 'Adelie Penguin (Pygoscelis adeliae)'\n",
      " 'Adelie Penguin (Pygoscelis adeliae)'\n",
      " 'Adelie Penguin (Pygoscelis adeliae)'\n",
      " 'Chinstrap penguin (Pygoscelis antarctica)'\n",
      " 'Adelie Penguin (Pygoscelis adeliae)'\n",
      " 'Chinstrap penguin (Pygoscelis antarctica)'\n",
      " 'Gentoo penguin (Pygoscelis papua)' 'Gentoo penguin (Pygoscelis papua)']\n",
      "Accuracy: 100.00%\n",
      "Classification Report:\n",
      "                                           precision    recall  f1-score   support\n",
      "\n",
      "      Adelie Penguin (Pygoscelis adeliae)       1.00      1.00      1.00        27\n",
      "Chinstrap penguin (Pygoscelis antarctica)       1.00      1.00      1.00        10\n",
      "        Gentoo penguin (Pygoscelis papua)       1.00      1.00      1.00        18\n",
      "\n",
      "                                 accuracy                           1.00        55\n",
      "                                macro avg       1.00      1.00      1.00        55\n",
      "                             weighted avg       1.00      1.00      1.00        55\n",
      "\n",
      "Confusion Matrix:\n",
      "[[27  0  0]\n",
      " [ 0 10  0]\n",
      " [ 0  0 18]]\n"
     ]
    }
   ],
   "source": [
    "penguins = pd.read_csv('penguins_train.csv')\n",
    "X = penguins.drop('Species', axis=1)\n",
    "y = penguins['Species']\n",
    "\n",
    "X = penguins.drop('Species', axis=1)\n",
    "y = penguins['Species']\n",
    "numeric_column_means = X.select_dtypes(include=['int', 'float']).mean()\n",
    "X.fillna(numeric_column_means, inplace=True)\n",
    "cat_columns = X.select_dtypes(include=['object'])\n",
    "X_encoded = pd.get_dummies(X, columns=cat_columns.columns)\n",
    "\n",
    "X_train, X_test, y_train, y_test = train_test_split(X_encoded, y, test_size=0.2, random_state=31)\n",
    "\n",
    "n_estimators = 100\n",
    "rf_classifier = Random_Forest_Classifier(n_estimators=n_estimators, random_state=42)\n",
    "rf_classifier.fit(X_train.values, y_train.values)\n",
    "yhat_test = rf_classifier.predict(X_test.values)\n",
    "\n",
    "accuracy = accuracy_score(y_test, yhat_test)\n",
    "print(\"Predictions on the test dataset:\")\n",
    "print(yhat_test)\n",
    "print(f\"Accuracy: {accuracy * 100:.2f}%\")\n",
    "print(\"Classification Report:\")\n",
    "print(classification_report(y_test, yhat_test))\n",
    "print(\"Confusion Matrix:\")\n",
    "print(confusion_matrix(y_test, yhat_test))"
   ]
  },
  {
   "cell_type": "code",
   "execution_count": null,
   "metadata": {},
   "outputs": [],
   "source": []
  }
 ],
 "metadata": {
  "kernelspec": {
   "display_name": "Python 3",
   "language": "python",
   "name": "python3"
  },
  "language_info": {
   "codemirror_mode": {
    "name": "ipython",
    "version": 3
   },
   "file_extension": ".py",
   "mimetype": "text/x-python",
   "name": "python",
   "nbconvert_exporter": "python",
   "pygments_lexer": "ipython3",
   "version": "3.8.8"
  },
  "orig_nbformat": 4
 },
 "nbformat": 4,
 "nbformat_minor": 2
}
